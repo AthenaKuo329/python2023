{
 "cells": [
  {
   "cell_type": "code",
   "execution_count": 1,
   "metadata": {},
   "outputs": [
    {
     "name": "stdout",
     "output_type": "stream",
     "text": [
      "25\n",
      "28\n",
      "46\n",
      "20\n",
      "23\n",
      "31\n",
      "3\n"
     ]
    }
   ],
   "source": [
    "#撰寫一個大樂透電腦自動選號程式，程式執行會以亂數的方式顯示1-49之間七個不重複的大樂透號碼。\n",
    "import random\n",
    "\n",
    "for _ in range(7):\n",
    "    print(random.randint(1,49)) #此會重複"
   ]
  },
  {
   "cell_type": "code",
   "execution_count": null,
   "metadata": {},
   "outputs": [],
   "source": []
  },
  {
   "cell_type": "code",
   "execution_count": 2,
   "metadata": {},
   "outputs": [
    {
     "data": {
      "text/plain": [
       "{14, 16, 21, 30, 37, 47, 49}"
      ]
     },
     "execution_count": 2,
     "metadata": {},
     "output_type": "execute_result"
    }
   ],
   "source": [
    "import random\n",
    "\n",
    "loto = set()   #set才不會重複，沒有順序(不會排序)\n",
    "while(len(loto)<7):\n",
    "    loto.add(random.randint(1,49))    #用set的實體方法add，https://www.w3schools.com/python/python_ref_set.asp\n",
    "loto"
   ]
  },
  {
   "cell_type": "code",
   "execution_count": 3,
   "metadata": {},
   "outputs": [
    {
     "data": {
      "text/plain": [
       "[4, 6, 8, 10, 20, 23, 25]"
      ]
     },
     "execution_count": 3,
     "metadata": {},
     "output_type": "execute_result"
    }
   ],
   "source": [
    "import random\n",
    "\n",
    "loto = set()   \n",
    "while(len(loto)<7):\n",
    "    loto.add(random.randint(1,49))    \n",
    "list(loto)  #轉成list"
   ]
  },
  {
   "cell_type": "code",
   "execution_count": 4,
   "metadata": {},
   "outputs": [
    {
     "data": {
      "text/plain": [
       "[2, 14, 34, 37, 38, 46, 47]"
      ]
     },
     "execution_count": 4,
     "metadata": {},
     "output_type": "execute_result"
    }
   ],
   "source": [
    "import random\n",
    "\n",
    "loto = set()   \n",
    "while(len(loto)<7):\n",
    "    loto.add(random.randint(1,49))    \n",
    "    sorted(loto)  #排序"
   ]
  },
  {
   "cell_type": "code",
   "execution_count": 5,
   "metadata": {},
   "outputs": [
    {
     "name": "stdout",
     "output_type": "stream",
     "text": [
      "3\n",
      "12\n",
      "21\n",
      "24\n",
      "33\n",
      "39\n",
      "48\n"
     ]
    }
   ],
   "source": [
    "import random\n",
    "\n",
    "loto = set()   \n",
    "while(len(loto)<7):\n",
    "    loto.add(random.randint(1,49))    \n",
    "sort_loto = sorted(loto)  #排序\n",
    "for item in sort_loto:\n",
    "    print(item)"
   ]
  },
  {
   "cell_type": "code",
   "execution_count": 6,
   "metadata": {},
   "outputs": [
    {
     "name": "stdout",
     "output_type": "stream",
     "text": [
      "1 3 12 31 37 38 40 "
     ]
    }
   ],
   "source": [
    "import random\n",
    "\n",
    "loto = set()   \n",
    "while(len(loto)<7):\n",
    "    loto.add(random.randint(1,49))    \n",
    "sort_loto = sorted(loto)  #排序\n",
    "for item in sort_loto:\n",
    "    print(item, end=\" \") #沒有換行"
   ]
  }
 ],
 "metadata": {
  "kernelspec": {
   "display_name": "Python 3",
   "language": "python",
   "name": "python3"
  },
  "language_info": {
   "codemirror_mode": {
    "name": "ipython",
    "version": 3
   },
   "file_extension": ".py",
   "mimetype": "text/x-python",
   "name": "python",
   "nbconvert_exporter": "python",
   "pygments_lexer": "ipython3",
   "version": "3.9.16"
  },
  "orig_nbformat": 4
 },
 "nbformat": 4,
 "nbformat_minor": 2
}
