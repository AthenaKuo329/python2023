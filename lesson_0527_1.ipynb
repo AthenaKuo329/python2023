{
 "cells": [
  {
   "cell_type": "code",
   "execution_count": 6,
   "metadata": {},
   "outputs": [
    {
     "data": {
      "text/plain": [
       "200"
      ]
     },
     "execution_count": 6,
     "metadata": {},
     "output_type": "execute_result"
    }
   ],
   "source": [
    "import requests\n",
    "url = 'https://seat.tpml.edu.tw/sm/service/getAllArea'\n",
    "response = requests.request('GET',url)\n",
    "response.status_code\n"
   ]
  },
  {
   "cell_type": "code",
   "execution_count": null,
   "metadata": {},
   "outputs": [],
   "source": [
    "# https://requests.readthedocs.io/en/latest/api/ "
   ]
  },
  {
   "cell_type": "code",
   "execution_count": 7,
   "metadata": {},
   "outputs": [
    {
     "name": "stdout",
     "output_type": "stream",
     "text": [
      "連線成功\n",
      "b'[{\"areaId\":3202,\"branchName\":\"\\xe7\\xa8\\xbb\\xe9\\xa6\\x99\\xe5\\x88\\x86\\xe9\\xa4\\xa8\",\"floorName\":\"7F\",\"areaName\":\"\\xe8\\xb3\\x87\\xe8\\xa8\\x8a\\xe6\\xaa\\xa2\\xe7\\xb4\\xa2\\xe5\\x8d\\x80\",\"freeCount\":3,\"totalCount\":6},{\"areaId\":3203,\"branchName\":\"\\xe7\\xa8\\xbb\\xe9\\xa6\\x99\\xe5\\x88\\x86\\xe9\\xa4\\xa8\",\"floorName\":\"8F\",\"areaName\":\"\\xe8\\xa8\\x8e\\xe8\\xab\\x96\\xe5\\xae\\xa4\",\"freeCount\":2,\"totalCount\":2},{\"areaId\":3204,\"branchName\":\"\\xe7\\xa8\\xbb\\xe9\\xa6\\x99\\xe5\\x88\\x86\\xe9\\xa4\\xa8\",\"floorName\":\"9F\",\"areaName\":\"\\xe8\\x87\\xaa\\xe4\\xbf\\xae\\xe5\\xae\\xa4\",\"freeCount\":43,\"totalCount\":93},{\"areaId\":3209,\"branchName\":\"\\xe7\\xb8\\xbd\\xe9\\xa4\\xa8\",\"floorName\":\"1F\",\"areaName\":\"\\xe6\\x95\\xb8\\xe4\\xbd\\x8de\\xe6\\xa8\\x82\\xe5\\x9c\\x92\",\"freeCount\":20,\"totalCount\":36},{\"areaId\":3211,\"branchName\":\"\\xe7\\xb8\\xbd\\xe9\\xa4\\xa8\",\"floorName\":\"6F\",\"areaName\":\"\\xe8\\x87\\xaa\\xe4\\xbf\\xae\\xe5\\xae\\xa4\",\"freeCount\":194,\"totalCount\":240},{\"areaId\":3212,\"branchName\":\"\\xe7\\xb8\\xbd\\xe9\\xa4\\xa8\",\"floorName\":\"8F\",\"areaName\":\"\\xe8\\xa6\\x96\\xe8\\x81\\xbd\\xe8\\xb3\\x87\\xe6\\x96\\x99\\xe9\\x96\\xb1\\xe8\\xa6\\xbd\\xe5\\xae\\xa4\",\"freeCount\":24,\"totalCount\":24},{\"areaId\":3213,\"branchName\":\"\\xe7\\xb8\\xbd\\xe9\\xa4\\xa8\",\"floorName\":\"8F\",\"areaName\":\"\\xe8\\xa6\\xaa\\xe5\\xad\\x90\\xe6\\xac\\xa3\\xe8\\xb3\\x9e\\xe5\\xae\\xa4\",\"freeCount\":3,\"totalCount\":3},{\"areaId\":3214,\"branchName\":\"\\xe7\\xb8\\xbd\\xe9\\xa4\\xa8\",\"floorName\":\"8F\",\"areaName\":\"\\xe5\\x9c\\x98\\xe9\\xab\\x94\\xe6\\xac\\xa3\\xe8\\xb3\\x9e\\xe5\\xae\\xa4\",\"freeCount\":0,\"totalCount\":62},{\"areaId\":3215,\"branchName\":\"\\xe7\\xb8\\xbd\\xe9\\xa4\\xa8\",\"floorName\":\"8F\",\"areaName\":\"\\xe5\\x85\\x92\\xe7\\xab\\xa5\\xe8\\xa6\\x96\\xe8\\x81\\xbd\\xe8\\xb3\\x87\\xe6\\x96\\x99\\xe9\\x96\\xb1\\xe8\\xa6\\xbd\\xe5\\xae\\xa4\",\"freeCount\":10,\"totalCount\":10},{\"areaId\":3216,\"branchName\":\"\\xe7\\xb8\\xbd\\xe9\\xa4\\xa8\",\"floorName\":\"8F\",\"areaName\":\"VOD\\xe9\\x9a\\xa8\\xe9\\x81\\xb8\\xe8\\xa6\\x96\\xe8\\x81\\xbd\\xe5\\x8d\\x80\",\"freeCount\":6,\"totalCount\":6},{\"areaId\":3205,\"branchName\":\"\\xe5\\xbb\\xa3\\xe6\\x85\\x88\\xe5\\x88\\x86\\xe9\\xa4\\xa8\",\"floorName\":\"3F\",\"areaName\":\"\\xe8\\x87\\xaa\\xe4\\xbf\\xae\\xe5\\xae\\xa4\",\"freeCount\":67,\"totalCount\":82},{\"areaId\":3206,\"branchName\":\"\\xe5\\xbb\\xa3\\xe6\\x85\\x88\\xe5\\x88\\x86\\xe9\\xa4\\xa8\",\"floorName\":\"3F\",\"areaName\":\"\\xe7\\xad\\x86\\xe9\\x9b\\xbb\\xe5\\x8d\\x80\",\"freeCount\":32,\"totalCount\":49},{\"areaId\":3217,\"branchName\":\"\\xe5\\xbb\\xa3\\xe6\\x85\\x88\\xe5\\x88\\x86\\xe9\\xa4\\xa8\",\"floorName\":\"3F\",\"areaName\":\"10\\xe4\\xba\\xba\\xe8\\xa8\\x8e\\xe8\\xab\\x96\\xe5\\xae\\xa4\",\"freeCount\":1,\"totalCount\":1},{\"areaId\":3218,\"branchName\":\"\\xe5\\xbb\\xa3\\xe6\\x85\\x88\\xe5\\x88\\x86\\xe9\\xa4\\xa8\",\"floorName\":\"3F\",\"areaName\":\"6\\xe4\\xba\\xba\\xe8\\xa8\\x8e\\xe8\\xab\\x96\\xe5\\xae\\xa4\",\"freeCount\":2,\"totalCount\":2},{\"areaId\":3208,\"branchName\":\"\\xe5\\xbb\\xa3\\xe6\\x85\\x88\\xe5\\x88\\x86\\xe9\\xa4\\xa8\",\"floorName\":\"4F\",\"areaName\":\"\\xe9\\x9b\\xbb\\xe8\\x85\\xa6\\xe5\\x8d\\x80\",\"freeCount\":2,\"totalCount\":5},{\"areaId\":3207,\"branchName\":\"\\xe8\\xa5\\xbf\\xe6\\xb9\\x96\\xe5\\x88\\x86\\xe9\\xa4\\xa8\",\"floorName\":\"B1\",\"areaName\":\"\\xe8\\x87\\xaa\\xe4\\xbf\\xae\\xe5\\x8d\\x80\",\"freeCount\":163,\"totalCount\":195},{\"areaId\":3200,\"branchName\":\"\\xe8\\xa5\\xbf\\xe6\\xb9\\x96\\xe5\\x88\\x86\\xe9\\xa4\\xa8\",\"floorName\":\"3F\",\"areaName\":\"\\xe5\\x80\\x8b\\xe4\\xba\\xba\\xe8\\xa6\\x96\\xe8\\x81\\xbd\\xe5\\x8d\\x80\",\"freeCount\":8,\"totalCount\":8},{\"areaId\":3201,\"branchName\":\"\\xe8\\xa5\\xbf\\xe6\\xb9\\x96\\xe5\\x88\\x86\\xe9\\xa4\\xa8\",\"floorName\":\"3F\",\"areaName\":\"\\xe5\\x9c\\x98\\xe9\\xab\\x94\\xe8\\xa6\\x96\\xe8\\x81\\xbd\\xe5\\xb0\\x8f\\xe9\\x96\\x93\",\"freeCount\":5,\"totalCount\":5}]'\n"
     ]
    }
   ],
   "source": [
    "import requests\n",
    "url = 'https://seat.tpml.edu.tw/sm/service/getAllArea'\n",
    "response = requests.request('GET',url)\n",
    "if response.status_code == 200:\n",
    "    print(\"連線成功\")\n",
    "    print(response.content)\n",
    "else:\n",
    "    print(f\"連線失敗:{status_code}\")"
   ]
  },
  {
   "cell_type": "code",
   "execution_count": 8,
   "metadata": {},
   "outputs": [
    {
     "name": "stdout",
     "output_type": "stream",
     "text": [
      "連線成功\n",
      "[{\"areaId\":3202,\"branchName\":\"稻香分館\",\"floorName\":\"7F\",\"areaName\":\"資訊檢索區\",\"freeCount\":3,\"totalCount\":6},{\"areaId\":3203,\"branchName\":\"稻香分館\",\"floorName\":\"8F\",\"areaName\":\"討論室\",\"freeCount\":2,\"totalCount\":2},{\"areaId\":3204,\"branchName\":\"稻香分館\",\"floorName\":\"9F\",\"areaName\":\"自修室\",\"freeCount\":43,\"totalCount\":93},{\"areaId\":3209,\"branchName\":\"總館\",\"floorName\":\"1F\",\"areaName\":\"數位e樂園\",\"freeCount\":20,\"totalCount\":36},{\"areaId\":3211,\"branchName\":\"總館\",\"floorName\":\"6F\",\"areaName\":\"自修室\",\"freeCount\":194,\"totalCount\":240},{\"areaId\":3212,\"branchName\":\"總館\",\"floorName\":\"8F\",\"areaName\":\"視聽資料閱覽室\",\"freeCount\":24,\"totalCount\":24},{\"areaId\":3213,\"branchName\":\"總館\",\"floorName\":\"8F\",\"areaName\":\"親子欣賞室\",\"freeCount\":3,\"totalCount\":3},{\"areaId\":3214,\"branchName\":\"總館\",\"floorName\":\"8F\",\"areaName\":\"團體欣賞室\",\"freeCount\":0,\"totalCount\":62},{\"areaId\":3215,\"branchName\":\"總館\",\"floorName\":\"8F\",\"areaName\":\"兒童視聽資料閱覽室\",\"freeCount\":10,\"totalCount\":10},{\"areaId\":3216,\"branchName\":\"總館\",\"floorName\":\"8F\",\"areaName\":\"VOD隨選視聽區\",\"freeCount\":6,\"totalCount\":6},{\"areaId\":3205,\"branchName\":\"廣慈分館\",\"floorName\":\"3F\",\"areaName\":\"自修室\",\"freeCount\":66,\"totalCount\":82},{\"areaId\":3206,\"branchName\":\"廣慈分館\",\"floorName\":\"3F\",\"areaName\":\"筆電區\",\"freeCount\":31,\"totalCount\":49},{\"areaId\":3217,\"branchName\":\"廣慈分館\",\"floorName\":\"3F\",\"areaName\":\"10人討論室\",\"freeCount\":1,\"totalCount\":1},{\"areaId\":3218,\"branchName\":\"廣慈分館\",\"floorName\":\"3F\",\"areaName\":\"6人討論室\",\"freeCount\":2,\"totalCount\":2},{\"areaId\":3208,\"branchName\":\"廣慈分館\",\"floorName\":\"4F\",\"areaName\":\"電腦區\",\"freeCount\":2,\"totalCount\":5},{\"areaId\":3207,\"branchName\":\"西湖分館\",\"floorName\":\"B1\",\"areaName\":\"自修區\",\"freeCount\":162,\"totalCount\":195},{\"areaId\":3200,\"branchName\":\"西湖分館\",\"floorName\":\"3F\",\"areaName\":\"個人視聽區\",\"freeCount\":8,\"totalCount\":8},{\"areaId\":3201,\"branchName\":\"西湖分館\",\"floorName\":\"3F\",\"areaName\":\"團體視聽小間\",\"freeCount\":5,\"totalCount\":5}]\n"
     ]
    }
   ],
   "source": [
    "import requests\n",
    "url = 'https://seat.tpml.edu.tw/sm/service/getAllArea'\n",
    "response = requests.request('GET',url)\n",
    "if response.status_code == 200:\n",
    "    print(\"連線成功\")\n",
    "    print(response.text)\n",
    "else:\n",
    "    print(f\"連線失敗:{response.status_code}\")"
   ]
  },
  {
   "cell_type": "code",
   "execution_count": null,
   "metadata": {},
   "outputs": [],
   "source": [
    "# json資料翻譯網址 https://jsonviewer.stack.hu/，把url網址貼至\"Text\"，再看\"Viewr\"\")  \n",
    "# JSON(JavaScript Object Notation)，它是一種輕量級的資料交換格式(檔案小)，能使資料更加容易地交換，以純文字為基礎，用來儲存和傳送簡單的資料，讓人容易撰寫及閱讀。 我們常常可以在網站、API與資料庫中，看到這個資料傳輸的格式。"
   ]
  },
  {
   "cell_type": "code",
   "execution_count": null,
   "metadata": {},
   "outputs": [],
   "source": []
  },
  {
   "cell_type": "code",
   "execution_count": null,
   "metadata": {},
   "outputs": [],
   "source": []
  }
 ],
 "metadata": {
  "kernelspec": {
   "display_name": "Python 3",
   "language": "python",
   "name": "python3"
  },
  "language_info": {
   "codemirror_mode": {
    "name": "ipython",
    "version": 3
   },
   "file_extension": ".py",
   "mimetype": "text/x-python",
   "name": "python",
   "nbconvert_exporter": "python",
   "pygments_lexer": "ipython3",
   "version": "3.9.16"
  },
  "orig_nbformat": 4
 },
 "nbformat": 4,
 "nbformat_minor": 2
}
