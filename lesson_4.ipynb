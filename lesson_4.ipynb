{
 "cells": [
  {
   "cell_type": "code",
   "execution_count": 1,
   "metadata": {},
   "outputs": [
    {
     "name": "stdout",
     "output_type": "stream",
     "text": [
      "已存足39999\n"
     ]
    }
   ],
   "source": [
    " #\n",
    "\n",
    "deposit = 0\n",
    "while(deposit < 30000):   #沒有存足三萬\n",
    "    input_value = int(input(\"請輸入本月份的存款:\"))\n",
    "    deposit += input_value\n",
    "\n",
    "print(f\"已存足{deposit}\")"
   ]
  },
  {
   "cell_type": "code",
   "execution_count": 5,
   "metadata": {},
   "outputs": [
    {
     "name": "stdout",
     "output_type": "stream",
     "text": [
      "總共存了3月,共存了30050\n"
     ]
    }
   ],
   "source": [
    "\n",
    "deposit = 0\n",
    "num = 0\n",
    "\n",
    "while(deposit < 30000):   #沒有存足三萬\n",
    "    num += 1    #每進來一次就+1\n",
    "    input_value = int(input(\"請輸入第{num}月份的存款:\"))\n",
    "    deposit += input_value\n",
    "\n",
    "print(f\"總共存了{num}月,共存了{deposit}\")"
   ]
  }
 ],
 "metadata": {
  "kernelspec": {
   "display_name": "Python 3",
   "language": "python",
   "name": "python3"
  },
  "language_info": {
   "codemirror_mode": {
    "name": "ipython",
    "version": 3
   },
   "file_extension": ".py",
   "mimetype": "text/x-python",
   "name": "python",
   "nbconvert_exporter": "python",
   "pygments_lexer": "ipython3",
   "version": "3.9.16"
  },
  "orig_nbformat": 4
 },
 "nbformat": 4,
 "nbformat_minor": 2
}
