{
 "cells": [
  {
   "cell_type": "code",
   "execution_count": 1,
   "metadata": {},
   "outputs": [
    {
     "name": "stdout",
     "output_type": "stream",
     "text": [
      "已存足39999\n"
     ]
    }
   ],
   "source": [
    " #小明想要存錢買一輛機車,機車每輛30000元，他將每月存的錢輸入，當存款足夠買機車時，就顯示提示訊息告知\n",
    "\n",
    "deposit = 0\n",
    "while(deposit < 30000):   #沒有存足三萬\n",
    "    input_value = int(input(\"請輸入本月份的存款:\"))\n",
    "    deposit += input_value\n",
    "\n",
    "print(f\"已存足{deposit}\")"
   ]
  },
  {
   "cell_type": "code",
   "execution_count": 5,
   "metadata": {},
   "outputs": [
    {
     "name": "stdout",
     "output_type": "stream",
     "text": [
      "總共存了3月,共存了30050\n"
     ]
    }
   ],
   "source": [
    "\n",
    "deposit = 0\n",
    "num = 0\n",
    "\n",
    "while(deposit < 30000):   #沒有存足三萬\n",
    "    num += 1    #每進來一次就+1\n",
    "    input_value = int(input(\"請輸入第{num}月份的存款:\"))\n",
    "    deposit += input_value\n",
    "\n",
    "print(f\"總共存了{num}月,共存了{deposit}\")"
   ]
  },
  {
   "cell_type": "code",
   "execution_count": 6,
   "metadata": {},
   "outputs": [
    {
     "name": "stdout",
     "output_type": "stream",
     "text": [
      "總共存了2月,共存了30100\n"
     ]
    }
   ],
   "source": [
    "\n",
    "deposit = 0\n",
    "num = 0\n",
    "\n",
    "while(True):   \n",
    "    num += 1    #每進來一次就+1\n",
    "    input_value = int(input(\"請輸入第{num}月份的存款:\"))\n",
    "    deposit += input_value \n",
    "    if(deposit >=30000):\n",
    "        break\n",
    "\n",
    "print(f\"總共存了{num}月,共存了{deposit}\")"
   ]
  },
  {
   "cell_type": "code",
   "execution_count": 12,
   "metadata": {},
   "outputs": [
    {
     "name": "stdout",
     "output_type": "stream",
     "text": [
      "所有輸入的正偶數加總是:6\n"
     ]
    }
   ],
   "source": [
    "#請設計一個程式，讓使用者輸入數值，只有加總正偶數值，不加總正奇數值，如果輸入負數，結束程式。\n",
    "\n",
    "num = 0\n",
    "sum = 0\n",
    "while(True):\n",
    "    num += 1\n",
    "    input_num = int(input(f\"請輸入第{num}個數值:\"))\n",
    "    if input_num < 0:\n",
    "       break\n",
    "    elif input_num % 2 == 1:\n",
    "       continue \n",
    "    else:\n",
    "       sum += input_num\n",
    "print(f\"所有輸入的正偶數加總是:{sum}\") \n",
    "      \n"
   ]
  },
  {
   "cell_type": "code",
   "execution_count": 13,
   "metadata": {},
   "outputs": [
    {
     "name": "stdout",
     "output_type": "stream",
     "text": [
      "所有輸入的正偶數加總是:12\n"
     ]
    }
   ],
   "source": [
    "num = 0\n",
    "sum = 0\n",
    "while(True):\n",
    "    num += 1\n",
    "    input_num = int(input(f\"請輸入第{num}個數值:\"))\n",
    "    if input_num < 0:\n",
    "       break\n",
    "    elif input_num % 2 == 1:\n",
    "       break \n",
    "    else:\n",
    "       sum += input_num\n",
    "print(f\"所有輸入的正偶數加總是:{sum}\") \n",
    "   "
   ]
  },
  {
   "cell_type": "code",
   "execution_count": 17,
   "metadata": {},
   "outputs": [
    {
     "name": "stdout",
     "output_type": "stream",
     "text": [
      "35的因數是:\n",
      "1\n",
      "5\n",
      "7\n",
      "35\n",
      "====================結束======================\n"
     ]
    }
   ],
   "source": [
    "num = int(input(\"請輸入一個數值,並求其因數:\"))\n",
    "print(f\"{num}的因數是:\")\n",
    "for i in range(1, num+1):\n",
    "    if num % i == 0:\n",
    "        print(i)\n",
    "print(\"====================結束======================\")"
   ]
  },
  {
   "cell_type": "code",
   "execution_count": 18,
   "metadata": {},
   "outputs": [
    {
     "name": "stdout",
     "output_type": "stream",
     "text": [
      "1\n"
     ]
    }
   ],
   "source": [
    "# 待確認 \n",
    "i = 1\n",
    "while False:\n",
    "    if i % 5 == 0:\n",
    "        break\n",
    "    i = i + 2\n",
    "print(i)"
   ]
  },
  {
   "cell_type": "code",
   "execution_count": 24,
   "metadata": {},
   "outputs": [
    {
     "name": "stdout",
     "output_type": "stream",
     "text": [
      "45的因數是:\n",
      "1\n",
      "3\n",
      "5\n",
      "9\n",
      "15\n",
      "45\n",
      "====================結束======================\n"
     ]
    }
   ],
   "source": [
    "#自訂function求因數的功能\n",
    "def get_factor():  #括號內為參數\n",
    "    num = int(input(\"請輸入一個數值,並求其因數:\"))\n",
    "    print(f\"{num}的因數是:\")\n",
    "    for i in range(1, num+1):\n",
    "        if num % i == 0:\n",
    "           print(i)\n",
    "    print(\"====================結束======================\")\n",
    "\n",
    "get_factor()"
   ]
  },
  {
   "cell_type": "code",
   "execution_count": 25,
   "metadata": {},
   "outputs": [
    {
     "name": "stdout",
     "output_type": "stream",
     "text": [
      "12的因數是:\n",
      "1\n",
      "2\n",
      "3\n",
      "4\n",
      "6\n",
      "12\n",
      "====================結束======================\n",
      "15的因數是:\n",
      "1\n",
      "3\n",
      "5\n",
      "15\n",
      "====================結束======================\n",
      "27的因數是:\n",
      "1\n",
      "3\n",
      "9\n",
      "27\n",
      "====================結束======================\n"
     ]
    }
   ],
   "source": [
    "#呼叫function\n",
    "get_factor()\n",
    "get_factor()\n",
    "get_factor()"
   ]
  },
  {
   "cell_type": "code",
   "execution_count": 26,
   "metadata": {},
   "outputs": [
    {
     "name": "stdout",
     "output_type": "stream",
     "text": [
      "17的因數是:\n",
      "1\n",
      "17\n",
      "====================結束======================\n",
      "21的因數是:\n",
      "1\n",
      "3\n",
      "7\n",
      "21\n",
      "====================結束======================\n",
      "52的因數是:\n",
      "1\n",
      "2\n",
      "4\n",
      "13\n",
      "26\n",
      "52\n",
      "====================結束======================\n"
     ]
    }
   ],
   "source": [
    "for i in range(3):\n",
    "    get_factor()"
   ]
  },
  {
   "cell_type": "code",
   "execution_count": 27,
   "metadata": {},
   "outputs": [
    {
     "data": {
      "text/plain": [
       "[78, 92, 35, 41, 69]"
      ]
     },
     "execution_count": 27,
     "metadata": {},
     "output_type": "execute_result"
    }
   ],
   "source": [
    "nums = [78,92,35,41,69]\n",
    "nums"
   ]
  },
  {
   "cell_type": "code",
   "execution_count": 28,
   "metadata": {},
   "outputs": [
    {
     "data": {
      "text/plain": [
       "(78, 92, 35, 41, 69)"
      ]
     },
     "execution_count": 28,
     "metadata": {},
     "output_type": "execute_result"
    }
   ],
   "source": [
    "nums = [78,92,35,41,69]\n",
    "nums[0], nums[1], nums[2], nums[3], nums[4]  #一個個抓出值"
   ]
  },
  {
   "cell_type": "code",
   "execution_count": 29,
   "metadata": {},
   "outputs": [
    {
     "name": "stdout",
     "output_type": "stream",
     "text": [
      "78\n",
      "92\n",
      "35\n",
      "41\n",
      "69\n"
     ]
    }
   ],
   "source": [
    "for i in range(5):\n",
    "    print(nums[i])    #一起抓出值"
   ]
  },
  {
   "cell_type": "code",
   "execution_count": 30,
   "metadata": {},
   "outputs": [
    {
     "name": "stdout",
     "output_type": "stream",
     "text": [
      "78\n",
      "92\n",
      "35\n",
      "41\n",
      "69\n"
     ]
    }
   ],
   "source": [
    "for item in nums:\n",
    "    print(item)"
   ]
  },
  {
   "cell_type": "code",
   "execution_count": 31,
   "metadata": {},
   "outputs": [
    {
     "name": "stdout",
     "output_type": "stream",
     "text": [
      "78\n",
      "92\n",
      "35\n",
      "41\n",
      "69\n"
     ]
    }
   ],
   "source": [
    "for i in nums:\n",
    "    print(i)"
   ]
  },
  {
   "cell_type": "code",
   "execution_count": null,
   "metadata": {},
   "outputs": [],
   "source": []
  },
  {
   "cell_type": "code",
   "execution_count": null,
   "metadata": {},
   "outputs": [],
   "source": []
  },
  {
   "cell_type": "code",
   "execution_count": 32,
   "metadata": {},
   "outputs": [],
   "source": [
    "def get_factor():  #括號內為參數\n",
    "    num = int(input(\"請輸入一個數值,並求其因數:\"))\n",
    "    print(f\"{num}的因數是:\")\n",
    "    for i in range(1, num+1):\n",
    "        if num % i == 0:\n",
    "           print(i)\n",
    "    print(\"====================結束======================\")"
   ]
  },
  {
   "cell_type": "code",
   "execution_count": 33,
   "metadata": {},
   "outputs": [
    {
     "name": "stdout",
     "output_type": "stream",
     "text": [
      "10的因數是:\n",
      "1\n",
      "2\n",
      "5\n",
      "10\n",
      "====================結束======================\n"
     ]
    }
   ],
   "source": [
    "get_factor()"
   ]
  },
  {
   "cell_type": "code",
   "execution_count": 34,
   "metadata": {},
   "outputs": [
    {
     "ename": "TypeError",
     "evalue": "get_factor() takes 0 positional arguments but 1 was given",
     "output_type": "error",
     "traceback": [
      "\u001b[0;31m---------------------------------------------------------------------------\u001b[0m",
      "\u001b[0;31mTypeError\u001b[0m                                 Traceback (most recent call last)",
      "Cell \u001b[0;32mIn[34], line 1\u001b[0m\n\u001b[0;32m----> 1\u001b[0m get_factor(\u001b[39m10\u001b[39;49m)  \u001b[39m#引數值(真正的值)\u001b[39;00m\n",
      "\u001b[0;31mTypeError\u001b[0m: get_factor() takes 0 positional arguments but 1 was given"
     ]
    }
   ],
   "source": [
    "get_factor(10)  #引數值(真正的值)，此function尚未接受 所以有錯誤"
   ]
  },
  {
   "cell_type": "code",
   "execution_count": 35,
   "metadata": {},
   "outputs": [],
   "source": [
    "def get_factor(para1):  #設定參數para1\n",
    "    num = int(input(\"請輸入一個數值,並求其因數:\"))\n",
    "    print(f\"{num}的因數是:\")\n",
    "    for i in range(1, num+1):\n",
    "        if num % i == 0:\n",
    "           print(i)\n",
    "    print(\"====================結束======================\")"
   ]
  },
  {
   "cell_type": "code",
   "execution_count": 36,
   "metadata": {},
   "outputs": [
    {
     "name": "stdout",
     "output_type": "stream",
     "text": [
      "20的因數是:\n",
      "1\n",
      "2\n",
      "4\n",
      "5\n",
      "10\n",
      "20\n",
      "====================結束======================\n"
     ]
    }
   ],
   "source": [
    "get_factor(10)  #此10沒有作用"
   ]
  },
  {
   "cell_type": "code",
   "execution_count": 37,
   "metadata": {},
   "outputs": [],
   "source": [
    "#改寫程式\n",
    "def get_factor(para1):  #設定參數para1\n",
    "    print(f\"{para1}的因數是:\")\n",
    "    for i in range(1, para1+1):\n",
    "        if para1 % i == 0:\n",
    "           print(i)\n",
    "    print(\"====================結束======================\")"
   ]
  },
  {
   "cell_type": "code",
   "execution_count": 38,
   "metadata": {},
   "outputs": [
    {
     "name": "stdout",
     "output_type": "stream",
     "text": [
      "10的因數是:\n",
      "1\n",
      "2\n",
      "5\n",
      "10\n",
      "====================結束======================\n"
     ]
    }
   ],
   "source": [
    "get_factor(10)"
   ]
  },
  {
   "cell_type": "code",
   "execution_count": 39,
   "metadata": {},
   "outputs": [
    {
     "name": "stdout",
     "output_type": "stream",
     "text": [
      "20的因數是:\n",
      "1\n",
      "2\n",
      "4\n",
      "5\n",
      "10\n",
      "20\n",
      "====================結束======================\n"
     ]
    }
   ],
   "source": [
    "get_factor(20)"
   ]
  },
  {
   "cell_type": "code",
   "execution_count": 40,
   "metadata": {},
   "outputs": [
    {
     "name": "stdout",
     "output_type": "stream",
     "text": [
      "30的因數是:\n",
      "1\n",
      "2\n",
      "3\n",
      "5\n",
      "6\n",
      "10\n",
      "15\n",
      "30\n",
      "====================結束======================\n"
     ]
    }
   ],
   "source": [
    "get_factor(30)"
   ]
  },
  {
   "cell_type": "code",
   "execution_count": 43,
   "metadata": {},
   "outputs": [
    {
     "name": "stdout",
     "output_type": "stream",
     "text": [
      "78的因數是:\n",
      "1\n",
      "2\n",
      "3\n",
      "6\n",
      "13\n",
      "26\n",
      "39\n",
      "78\n",
      "====================結束======================\n",
      "95的因數是:\n",
      "1\n",
      "5\n",
      "19\n",
      "95\n",
      "====================結束======================\n",
      "107的因數是:\n",
      "1\n",
      "107\n",
      "====================結束======================\n",
      "45的因數是:\n",
      "1\n",
      "3\n",
      "5\n",
      "9\n",
      "15\n",
      "45\n",
      "====================結束======================\n"
     ]
    }
   ],
   "source": [
    "nums =[78,95,107,45]\n",
    "for num in nums:\n",
    "    get_factor(num)"
   ]
  },
  {
   "cell_type": "code",
   "execution_count": 44,
   "metadata": {},
   "outputs": [
    {
     "name": "stdout",
     "output_type": "stream",
     "text": [
      "78的因數是:\n",
      "1\n",
      "2\n",
      "3\n",
      "6\n",
      "13\n",
      "26\n",
      "39\n",
      "78\n",
      "====================結束======================\n",
      "95的因數是:\n",
      "1\n",
      "5\n",
      "19\n",
      "95\n",
      "====================結束======================\n",
      "107的因數是:\n",
      "1\n",
      "107\n",
      "====================結束======================\n",
      "45的因數是:\n",
      "1\n",
      "3\n",
      "5\n",
      "9\n",
      "15\n",
      "45\n",
      "====================結束======================\n"
     ]
    }
   ],
   "source": [
    "for num in [78,95,107,45]:\n",
    "    get_factor(num)"
   ]
  },
  {
   "cell_type": "code",
   "execution_count": 45,
   "metadata": {},
   "outputs": [
    {
     "name": "stdout",
     "output_type": "stream",
     "text": [
      "78的因數是:\n",
      "1\n",
      "2\n",
      "3\n",
      "6\n",
      "13\n",
      "26\n",
      "39\n",
      "78\n",
      "====================結束======================\n",
      "95的因數是:\n",
      "1\n",
      "5\n",
      "19\n",
      "95\n",
      "====================結束======================\n",
      "107的因數是:\n",
      "1\n",
      "107\n",
      "====================結束======================\n",
      "45的因數是:\n",
      "1\n",
      "3\n",
      "5\n",
      "9\n",
      "15\n",
      "45\n",
      "====================結束======================\n",
      "25的因數是:\n",
      "1\n",
      "5\n",
      "25\n",
      "====================結束======================\n"
     ]
    }
   ],
   "source": [
    "for num in [78,95,107,45,25]:\n",
    "    get_factor(num)"
   ]
  },
  {
   "cell_type": "code",
   "execution_count": null,
   "metadata": {},
   "outputs": [],
   "source": []
  },
  {
   "cell_type": "code",
   "execution_count": null,
   "metadata": {},
   "outputs": [],
   "source": []
  },
  {
   "cell_type": "code",
   "execution_count": 46,
   "metadata": {},
   "outputs": [],
   "source": [
    "def generate_stu():\n",
    "    return [78, 98, 65, 91, 78]  #傳出學生的分數"
   ]
  },
  {
   "cell_type": "code",
   "execution_count": 47,
   "metadata": {},
   "outputs": [
    {
     "data": {
      "text/plain": [
       "[78, 98, 65, 91, 78]"
      ]
     },
     "execution_count": 47,
     "metadata": {},
     "output_type": "execute_result"
    }
   ],
   "source": [
    "generate_stu()"
   ]
  },
  {
   "cell_type": "code",
   "execution_count": null,
   "metadata": {},
   "outputs": [],
   "source": []
  },
  {
   "cell_type": "code",
   "execution_count": null,
   "metadata": {},
   "outputs": [],
   "source": []
  },
  {
   "cell_type": "code",
   "execution_count": 48,
   "metadata": {},
   "outputs": [],
   "source": [
    "import random \n",
    "\n",
    "def generate_stu():\n",
    "    return [random.randint(50,100), random.randint(50,100), random.randint(50,100), random.randint(50,100), random.randint(50,100)]"
   ]
  },
  {
   "cell_type": "code",
   "execution_count": 49,
   "metadata": {},
   "outputs": [
    {
     "data": {
      "text/plain": [
       "[98, 51, 67, 52, 55]"
      ]
     },
     "execution_count": 49,
     "metadata": {},
     "output_type": "execute_result"
    }
   ],
   "source": [
    "generate_stu()"
   ]
  },
  {
   "cell_type": "code",
   "execution_count": 50,
   "metadata": {},
   "outputs": [
    {
     "data": {
      "text/plain": [
       "[[74, 92, 75, 95, 84], [75, 87, 55, 88, 92], [85, 96, 88, 69, 84]]"
      ]
     },
     "execution_count": 50,
     "metadata": {},
     "output_type": "execute_result"
    }
   ],
   "source": [
    "[generate_stu(), generate_stu(), generate_stu()]"
   ]
  },
  {
   "cell_type": "code",
   "execution_count": 51,
   "metadata": {},
   "outputs": [
    {
     "data": {
      "text/plain": [
       "[[92, 55, 76, 76, 81], [51, 91, 74, 93, 83], [87, 87, 70, 79, 51]]"
      ]
     },
     "execution_count": 51,
     "metadata": {},
     "output_type": "execute_result"
    }
   ],
   "source": [
    "students = [generate_stu(), generate_stu(), generate_stu()]\n",
    "students  #一個變數儲存二維list(第一維有3個學生，第二維各有5種分數)"
   ]
  },
  {
   "cell_type": "code",
   "execution_count": 52,
   "metadata": {},
   "outputs": [
    {
     "data": {
      "text/plain": [
       "[92, 55, 76, 76, 81]"
      ]
     },
     "execution_count": 52,
     "metadata": {},
     "output_type": "execute_result"
    }
   ],
   "source": [
    "students[0]"
   ]
  },
  {
   "cell_type": "code",
   "execution_count": 53,
   "metadata": {},
   "outputs": [
    {
     "data": {
      "text/plain": [
       "[51, 91, 74, 93, 83]"
      ]
     },
     "execution_count": 53,
     "metadata": {},
     "output_type": "execute_result"
    }
   ],
   "source": [
    "students[1]"
   ]
  },
  {
   "cell_type": "code",
   "execution_count": 54,
   "metadata": {},
   "outputs": [
    {
     "data": {
      "text/plain": [
       "[87, 87, 70, 79, 51]"
      ]
     },
     "execution_count": 54,
     "metadata": {},
     "output_type": "execute_result"
    }
   ],
   "source": [
    "students[2]"
   ]
  },
  {
   "cell_type": "code",
   "execution_count": 55,
   "metadata": {},
   "outputs": [
    {
     "data": {
      "text/plain": [
       "92"
      ]
     },
     "execution_count": 55,
     "metadata": {},
     "output_type": "execute_result"
    }
   ],
   "source": [
    "students[0][0]"
   ]
  },
  {
   "cell_type": "code",
   "execution_count": 57,
   "metadata": {},
   "outputs": [
    {
     "name": "stdout",
     "output_type": "stream",
     "text": [
      "[92, 55, 76, 76, 81]\n",
      "[51, 91, 74, 93, 83]\n",
      "[87, 87, 70, 79, 51]\n"
     ]
    }
   ],
   "source": [
    "for student in students:\n",
    "    print(student)"
   ]
  },
  {
   "cell_type": "code",
   "execution_count": 58,
   "metadata": {},
   "outputs": [
    {
     "name": "stdout",
     "output_type": "stream",
     "text": [
      "92\n",
      "55\n",
      "76\n",
      "76\n",
      "81\n",
      "=====================\n",
      "51\n",
      "91\n",
      "74\n",
      "93\n",
      "83\n",
      "=====================\n",
      "87\n",
      "87\n",
      "70\n",
      "79\n",
      "51\n",
      "=====================\n"
     ]
    }
   ],
   "source": [
    "for student in students:\n",
    "    for value in student:\n",
    "        print(value)\n",
    "    print(\"=====================\")"
   ]
  }
 ],
 "metadata": {
  "kernelspec": {
   "display_name": "Python 3",
   "language": "python",
   "name": "python3"
  },
  "language_info": {
   "codemirror_mode": {
    "name": "ipython",
    "version": 3
   },
   "file_extension": ".py",
   "mimetype": "text/x-python",
   "name": "python",
   "nbconvert_exporter": "python",
   "pygments_lexer": "ipython3",
   "version": "3.9.16"
  },
  "orig_nbformat": 4
 },
 "nbformat": 4,
 "nbformat_minor": 2
}
