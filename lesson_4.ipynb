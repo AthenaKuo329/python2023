{
 "cells": [
  {
   "cell_type": "code",
   "execution_count": 1,
   "metadata": {},
   "outputs": [
    {
     "name": "stdout",
     "output_type": "stream",
     "text": [
      "已存足39999\n"
     ]
    }
   ],
   "source": [
    " #小明想要存錢買一輛機車,機車每輛30000元，他將每月存的錢輸入，當存款足夠買機車時，就顯示提示訊息告知\n",
    "\n",
    "deposit = 0\n",
    "while(deposit < 30000):   #沒有存足三萬\n",
    "    input_value = int(input(\"請輸入本月份的存款:\"))\n",
    "    deposit += input_value\n",
    "\n",
    "print(f\"已存足{deposit}\")"
   ]
  },
  {
   "cell_type": "code",
   "execution_count": 5,
   "metadata": {},
   "outputs": [
    {
     "name": "stdout",
     "output_type": "stream",
     "text": [
      "總共存了3月,共存了30050\n"
     ]
    }
   ],
   "source": [
    "\n",
    "deposit = 0\n",
    "num = 0\n",
    "\n",
    "while(deposit < 30000):   #沒有存足三萬\n",
    "    num += 1    #每進來一次就+1\n",
    "    input_value = int(input(\"請輸入第{num}月份的存款:\"))\n",
    "    deposit += input_value\n",
    "\n",
    "print(f\"總共存了{num}月,共存了{deposit}\")"
   ]
  },
  {
   "cell_type": "code",
   "execution_count": 6,
   "metadata": {},
   "outputs": [
    {
     "name": "stdout",
     "output_type": "stream",
     "text": [
      "總共存了2月,共存了30100\n"
     ]
    }
   ],
   "source": [
    "\n",
    "deposit = 0\n",
    "num = 0\n",
    "\n",
    "while(True):   \n",
    "    num += 1    #每進來一次就+1\n",
    "    input_value = int(input(\"請輸入第{num}月份的存款:\"))\n",
    "    deposit += input_value \n",
    "    if(deposit >=30000):\n",
    "        break\n",
    "\n",
    "print(f\"總共存了{num}月,共存了{deposit}\")"
   ]
  },
  {
   "cell_type": "code",
   "execution_count": 12,
   "metadata": {},
   "outputs": [
    {
     "name": "stdout",
     "output_type": "stream",
     "text": [
      "所有輸入的正偶數加總是:6\n"
     ]
    }
   ],
   "source": [
    "#請設計一個程式，讓使用者輸入數值，只有加總正偶數值，不加總正奇數值，如果輸入負數，結束程式。\n",
    "\n",
    "num = 0\n",
    "sum = 0\n",
    "while(True):\n",
    "    num += 1\n",
    "    input_num = int(input(f\"請輸入第{num}個數值:\"))\n",
    "    if input_num < 0:\n",
    "       break\n",
    "    elif input_num % 2 == 1:\n",
    "       continue \n",
    "    else:\n",
    "       sum += input_num\n",
    "print(f\"所有輸入的正偶數加總是:{sum}\") \n",
    "      \n"
   ]
  },
  {
   "cell_type": "code",
   "execution_count": 13,
   "metadata": {},
   "outputs": [
    {
     "name": "stdout",
     "output_type": "stream",
     "text": [
      "所有輸入的正偶數加總是:12\n"
     ]
    }
   ],
   "source": [
    "num = 0\n",
    "sum = 0\n",
    "while(True):\n",
    "    num += 1\n",
    "    input_num = int(input(f\"請輸入第{num}個數值:\"))\n",
    "    if input_num < 0:\n",
    "       break\n",
    "    elif input_num % 2 == 1:\n",
    "       break \n",
    "    else:\n",
    "       sum += input_num\n",
    "print(f\"所有輸入的正偶數加總是:{sum}\") \n",
    "   "
   ]
  },
  {
   "cell_type": "code",
   "execution_count": 17,
   "metadata": {},
   "outputs": [
    {
     "name": "stdout",
     "output_type": "stream",
     "text": [
      "35的因數是:\n",
      "1\n",
      "5\n",
      "7\n",
      "35\n",
      "====================結束======================\n"
     ]
    }
   ],
   "source": [
    "num = int(input(\"請輸入一個數值,並求其因數:\"))\n",
    "print(f\"{num}的因數是:\")\n",
    "for i in range(1, num+1):\n",
    "    if num % i == 0:\n",
    "        print(i)\n",
    "print(\"====================結束======================\")"
   ]
  },
  {
   "cell_type": "code",
   "execution_count": 18,
   "metadata": {},
   "outputs": [
    {
     "name": "stdout",
     "output_type": "stream",
     "text": [
      "1\n"
     ]
    }
   ],
   "source": [
    "# 待確認 \n",
    "i = 1\n",
    "while False:\n",
    "    if i % 5 == 0:\n",
    "        break\n",
    "    i = i + 2\n",
    "print(i)"
   ]
  },
  {
   "cell_type": "code",
   "execution_count": 24,
   "metadata": {},
   "outputs": [
    {
     "name": "stdout",
     "output_type": "stream",
     "text": [
      "45的因數是:\n",
      "1\n",
      "3\n",
      "5\n",
      "9\n",
      "15\n",
      "45\n",
      "====================結束======================\n"
     ]
    }
   ],
   "source": [
    "#自訂function求因數的功能\n",
    "def get_factor():  #括號內為參數\n",
    "    num = int(input(\"請輸入一個數值,並求其因數:\"))\n",
    "    print(f\"{num}的因數是:\")\n",
    "    for i in range(1, num+1):\n",
    "        if num % i == 0:\n",
    "           print(i)\n",
    "    print(\"====================結束======================\")\n",
    "\n",
    "get_factor()"
   ]
  },
  {
   "cell_type": "code",
   "execution_count": 25,
   "metadata": {},
   "outputs": [
    {
     "name": "stdout",
     "output_type": "stream",
     "text": [
      "12的因數是:\n",
      "1\n",
      "2\n",
      "3\n",
      "4\n",
      "6\n",
      "12\n",
      "====================結束======================\n",
      "15的因數是:\n",
      "1\n",
      "3\n",
      "5\n",
      "15\n",
      "====================結束======================\n",
      "27的因數是:\n",
      "1\n",
      "3\n",
      "9\n",
      "27\n",
      "====================結束======================\n"
     ]
    }
   ],
   "source": [
    "#呼叫function\n",
    "get_factor()\n",
    "get_factor()\n",
    "get_factor()"
   ]
  },
  {
   "cell_type": "code",
   "execution_count": 26,
   "metadata": {},
   "outputs": [
    {
     "name": "stdout",
     "output_type": "stream",
     "text": [
      "17的因數是:\n",
      "1\n",
      "17\n",
      "====================結束======================\n",
      "21的因數是:\n",
      "1\n",
      "3\n",
      "7\n",
      "21\n",
      "====================結束======================\n",
      "52的因數是:\n",
      "1\n",
      "2\n",
      "4\n",
      "13\n",
      "26\n",
      "52\n",
      "====================結束======================\n"
     ]
    }
   ],
   "source": [
    "for i in range(3):\n",
    "    get_factor()"
   ]
  },
  {
   "cell_type": "code",
   "execution_count": null,
   "metadata": {},
   "outputs": [],
   "source": []
  }
 ],
 "metadata": {
  "kernelspec": {
   "display_name": "Python 3",
   "language": "python",
   "name": "python3"
  },
  "language_info": {
   "codemirror_mode": {
    "name": "ipython",
    "version": 3
   },
   "file_extension": ".py",
   "mimetype": "text/x-python",
   "name": "python",
   "nbconvert_exporter": "python",
   "pygments_lexer": "ipython3",
   "version": "3.9.16"
  },
  "orig_nbformat": 4
 },
 "nbformat": 4,
 "nbformat_minor": 2
}
